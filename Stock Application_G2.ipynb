{
 "cells": [
  {
   "cell_type": "code",
   "execution_count": 22,
   "metadata": {
    "collapsed": false
   },
   "outputs": [
    {
     "name": "stdout",
     "output_type": "stream",
     "text": [
      "                 Open   High        Low      Close  Adj Close    Volume  \\\n",
      "Date                                                                      \n",
      "2010-06-29  19.000000  25.00  17.540001  23.889999  23.889999  18766300   \n",
      "2010-06-30  25.790001  30.42  23.299999  23.830000  23.830000  17187100   \n",
      "2010-07-01  25.000000  25.92  20.270000  21.959999  21.959999   8218800   \n",
      "2010-07-02  23.000000  23.10  18.709999  19.200001  19.200001   5139800   \n",
      "2010-07-06  20.000000  20.00  15.830000  16.110001  16.110001   6866900   \n",
      "\n",
      "                 50ma  \n",
      "Date                   \n",
      "2010-06-29  23.889999  \n",
      "2010-06-30  23.860000  \n",
      "2010-07-01  23.226666  \n",
      "2010-07-02  22.220000  \n",
      "2010-07-06  20.998000  \n"
     ]
    }
   ],
   "source": [
    "\"\"\"\n",
    "To produce a interactive moving average comaprison graph\n",
    "\"\"\"\n",
    "import datetime as dt\n",
    "import pandas as pd\n",
    "import pandas_datareader.data as web\n",
    "import matplotlib.pyplot as plt\n",
    "from matplotlib import style\n",
    "from matplotlib.finance import candlestick_ohlc\n",
    "import matplotlib.dates as mdates #matplotlib dont use regular dates\n",
    "\n",
    "style.use('ggplot')\n",
    "\n",
    "df = pd.read_csv('CHK.csv', parse_dates=True, index_col=0)\n",
    "df['50ma'] = df['Adj Close'].rolling(window=50, min_periods=0).mean()\n",
    "df.dropna(inplace=True)\n",
    "print df.head()\n",
    "\n",
    "ax1 = plt.subplot2grid((6,1), (0,0), rowspan=5, colspan=1)\n",
    "ax2 = plt.subplot2grid((6,1), (5,0), rowspan=1, colspan=1, sharex=ax1)\n",
    "ax1.plot(df.index, df['Adj Close'])\n",
    "ax1.plot(df.index, df['50ma'])\n",
    "ax2.bar(df.index, df['Volume'])\n",
    "\n",
    "plt.show()"
   ]
  },
  {
   "cell_type": "code",
   "execution_count": null,
   "metadata": {
    "collapsed": true
   },
   "outputs": [],
   "source": []
  }
 ],
 "metadata": {
  "kernelspec": {
   "display_name": "Python 2",
   "language": "python",
   "name": "python2"
  },
  "language_info": {
   "codemirror_mode": {
    "name": "ipython",
    "version": 2
   },
   "file_extension": ".py",
   "mimetype": "text/x-python",
   "name": "python",
   "nbconvert_exporter": "python",
   "pygments_lexer": "ipython2",
   "version": "2.7.13"
  }
 },
 "nbformat": 4,
 "nbformat_minor": 0
}
